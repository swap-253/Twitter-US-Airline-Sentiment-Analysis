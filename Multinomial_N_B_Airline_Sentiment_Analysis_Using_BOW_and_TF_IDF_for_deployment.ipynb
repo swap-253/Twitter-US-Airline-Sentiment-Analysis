{
  "nbformat": 4,
  "nbformat_minor": 0,
  "metadata": {
    "colab": {
      "name": "Multinomial N.B Airline Sentiment Analysis Using BOW and TF-IDF for deployment.ipynb",
      "provenance": [],
      "collapsed_sections": [],
      "toc_visible": true
    },
    "kernelspec": {
      "display_name": "Python 3",
      "name": "python3"
    }
  },
  "cells": [
    {
      "cell_type": "code",
      "metadata": {
        "id": "I9zB1sV_Q-mD"
      },
      "source": [
        "#creating a directory\n",
        "!mkdir ~/.kaggle"
      ],
      "execution_count": 1,
      "outputs": []
    },
    {
      "cell_type": "code",
      "metadata": {
        "id": "Cv875k2SQ-rp"
      },
      "source": [
        "#using credentials to open kaggle dataset\n",
        "import json\n",
        "token = {\"username\":\"nishurocks23\",\"key\":\"26c5d88e7d80c0b16e9c5c7ac10f1c60\"}\n",
        "with open('/root/.kaggle/kaggle.json', 'w') as file:\n",
        "    json.dump(token, file)"
      ],
      "execution_count": 2,
      "outputs": []
    },
    {
      "cell_type": "code",
      "metadata": {
        "colab": {
          "base_uri": "https://localhost:8080/"
        },
        "id": "6kNSXWDWQ-wL",
        "outputId": "6c553ab0-6ac7-43c1-dc81-404a7c8ac59a"
      },
      "source": [
        "!cp /root/.kaggle/kaggle.json ~/.kaggle/kaggle.json"
      ],
      "execution_count": 3,
      "outputs": [
        {
          "output_type": "stream",
          "text": [
            "cp: '/root/.kaggle/kaggle.json' and '/root/.kaggle/kaggle.json' are the same file\n"
          ],
          "name": "stdout"
        }
      ]
    },
    {
      "cell_type": "code",
      "metadata": {
        "colab": {
          "base_uri": "https://localhost:8080/"
        },
        "id": "RNKMol8lQ-yu",
        "outputId": "e6439b7f-f9ba-4569-d61a-70bf19eefef3"
      },
      "source": [
        "!kaggle config set -n path -v{/content}"
      ],
      "execution_count": 4,
      "outputs": [
        {
          "output_type": "stream",
          "text": [
            "Warning: Your Kaggle API key is readable by other users on this system! To fix this, you can run 'chmod 600 /root/.kaggle/kaggle.json'\n",
            "- path is now set to: {/content}\n"
          ],
          "name": "stdout"
        }
      ]
    },
    {
      "cell_type": "code",
      "metadata": {
        "id": "OP4XQ1YIQ-3W"
      },
      "source": [
        "!chmod 600 /root/.kaggle/kaggle.json"
      ],
      "execution_count": 7,
      "outputs": []
    },
    {
      "cell_type": "code",
      "metadata": {
        "colab": {
          "base_uri": "https://localhost:8080/"
        },
        "id": "M66aTLViQ--2",
        "outputId": "3e4fcaed-e241-4233-ca73-6b7e389b4709"
      },
      "source": [
        "#downloading the zipped dataset folder on cloud\n",
        "!kaggle datasets download -d crowdflower/twitter-airline-sentiment -p /content"
      ],
      "execution_count": 8,
      "outputs": [
        {
          "output_type": "stream",
          "text": [
            "twitter-airline-sentiment.zip: Skipping, found more recently modified local copy (use --force to force download)\n"
          ],
          "name": "stdout"
        }
      ]
    },
    {
      "cell_type": "code",
      "metadata": {
        "colab": {
          "base_uri": "https://localhost:8080/"
        },
        "id": "efz7GmrwQ_Bn",
        "outputId": "aa68fa72-ab16-426b-fdf7-fd2e3ac20a91"
      },
      "source": [
        "#unzipping the folder\n",
        "!unzip \\*.zip"
      ],
      "execution_count": 9,
      "outputs": [
        {
          "output_type": "stream",
          "text": [
            "Archive:  twitter-airline-sentiment.zip\n",
            "  inflating: Tweets.csv              \n",
            "  inflating: database.sqlite         \n"
          ],
          "name": "stdout"
        }
      ]
    },
    {
      "cell_type": "code",
      "metadata": {
        "id": "INsvANBUQ_Nn"
      },
      "source": [
        "\n",
        "#importing libraries for model evaluation and algorithms\n",
        "import pandas as pd\n",
        "import numpy as np\n",
        "import matplotlib.pyplot as plt\n",
        "import seaborn as sns\n",
        "from sklearn import preprocessing\n",
        "from sklearn.metrics import roc_curve,auc\n",
        "from sklearn.metrics import roc_auc_score\n",
        "from sklearn.model_selection import train_test_split\n",
        "from sklearn.metrics import confusion_matrix\n",
        "from sklearn import metrics\n",
        "from IPython.display import display\n",
        "import warnings\n",
        "warnings.filterwarnings(\"ignore\")\n",
        "import nltk\n",
        "from nltk.tokenize import sent_tokenize, word_tokenize\n",
        "from sklearn.feature_extraction.text import TfidfTransformer\n",
        "from sklearn.feature_extraction.text import TfidfVectorizer\n",
        "from sklearn.feature_extraction.text import CountVectorizer\n",
        "from sklearn.naive_bayes import  MultinomialNB\n",
        "import re\n",
        "from nltk.corpus import stopwords\n",
        "from nltk.stem import PorterStemmer\n",
        "from nltk.stem.wordnet import WordNetLemmatizer"
      ],
      "execution_count": 10,
      "outputs": []
    },
    {
      "cell_type": "code",
      "metadata": {
        "colab": {
          "base_uri": "https://localhost:8080/"
        },
        "id": "SprjMwDzqVSb",
        "outputId": "84eb3dfa-dcf6-4395-c9b6-6a6df055500e"
      },
      "source": [
        "nltk.download('punkt')"
      ],
      "execution_count": 11,
      "outputs": [
        {
          "output_type": "stream",
          "text": [
            "[nltk_data] Downloading package punkt to /root/nltk_data...\n",
            "[nltk_data]   Unzipping tokenizers/punkt.zip.\n"
          ],
          "name": "stdout"
        },
        {
          "output_type": "execute_result",
          "data": {
            "text/plain": [
              "True"
            ]
          },
          "metadata": {
            "tags": []
          },
          "execution_count": 11
        }
      ]
    },
    {
      "cell_type": "code",
      "metadata": {
        "colab": {
          "base_uri": "https://localhost:8080/"
        },
        "id": "EVXVyNxcRpfk",
        "outputId": "584512b9-b56e-49a7-c2ba-02cc40ee832f"
      },
      "source": [
        "nltk.download('stopwords')"
      ],
      "execution_count": 12,
      "outputs": [
        {
          "output_type": "stream",
          "text": [
            "[nltk_data] Downloading package stopwords to /root/nltk_data...\n",
            "[nltk_data]   Unzipping corpora/stopwords.zip.\n"
          ],
          "name": "stdout"
        },
        {
          "output_type": "execute_result",
          "data": {
            "text/plain": [
              "True"
            ]
          },
          "metadata": {
            "tags": []
          },
          "execution_count": 12
        }
      ]
    },
    {
      "cell_type": "code",
      "metadata": {
        "colab": {
          "base_uri": "https://localhost:8080/"
        },
        "id": "UMP1AoqeqmvQ",
        "outputId": "6f973810-d244-4efe-e3de-2f42f2695370"
      },
      "source": [
        "nltk.download('wordnet')\n",
        "nltk.download('averaged_perceptron_tagger')"
      ],
      "execution_count": 13,
      "outputs": [
        {
          "output_type": "stream",
          "text": [
            "[nltk_data] Downloading package wordnet to /root/nltk_data...\n",
            "[nltk_data]   Unzipping corpora/wordnet.zip.\n",
            "[nltk_data] Downloading package averaged_perceptron_tagger to\n",
            "[nltk_data]     /root/nltk_data...\n",
            "[nltk_data]   Unzipping taggers/averaged_perceptron_tagger.zip.\n"
          ],
          "name": "stdout"
        },
        {
          "output_type": "execute_result",
          "data": {
            "text/plain": [
              "True"
            ]
          },
          "metadata": {
            "tags": []
          },
          "execution_count": 13
        }
      ]
    },
    {
      "cell_type": "markdown",
      "metadata": {
        "id": "wfczcBO4QwCP"
      },
      "source": [
        "# Now I am going to create a second model which takes into account only positive and negative tweets"
      ]
    },
    {
      "cell_type": "code",
      "metadata": {
        "colab": {
          "base_uri": "https://localhost:8080/",
          "height": 445
        },
        "id": "b1kzCWEXt4Gc",
        "outputId": "8d3f67ea-2f7e-4ba8-c5c6-431eb58556ce"
      },
      "source": [
        "#reading the dataframe\n",
        "df=pd.read_csv('Tweets.csv')\n",
        "df.head()"
      ],
      "execution_count": 14,
      "outputs": [
        {
          "output_type": "execute_result",
          "data": {
            "text/html": [
              "<div>\n",
              "<style scoped>\n",
              "    .dataframe tbody tr th:only-of-type {\n",
              "        vertical-align: middle;\n",
              "    }\n",
              "\n",
              "    .dataframe tbody tr th {\n",
              "        vertical-align: top;\n",
              "    }\n",
              "\n",
              "    .dataframe thead th {\n",
              "        text-align: right;\n",
              "    }\n",
              "</style>\n",
              "<table border=\"1\" class=\"dataframe\">\n",
              "  <thead>\n",
              "    <tr style=\"text-align: right;\">\n",
              "      <th></th>\n",
              "      <th>tweet_id</th>\n",
              "      <th>airline_sentiment</th>\n",
              "      <th>airline_sentiment_confidence</th>\n",
              "      <th>negativereason</th>\n",
              "      <th>negativereason_confidence</th>\n",
              "      <th>airline</th>\n",
              "      <th>airline_sentiment_gold</th>\n",
              "      <th>name</th>\n",
              "      <th>negativereason_gold</th>\n",
              "      <th>retweet_count</th>\n",
              "      <th>text</th>\n",
              "      <th>tweet_coord</th>\n",
              "      <th>tweet_created</th>\n",
              "      <th>tweet_location</th>\n",
              "      <th>user_timezone</th>\n",
              "    </tr>\n",
              "  </thead>\n",
              "  <tbody>\n",
              "    <tr>\n",
              "      <th>0</th>\n",
              "      <td>570306133677760513</td>\n",
              "      <td>neutral</td>\n",
              "      <td>1.0000</td>\n",
              "      <td>NaN</td>\n",
              "      <td>NaN</td>\n",
              "      <td>Virgin America</td>\n",
              "      <td>NaN</td>\n",
              "      <td>cairdin</td>\n",
              "      <td>NaN</td>\n",
              "      <td>0</td>\n",
              "      <td>@VirginAmerica What @dhepburn said.</td>\n",
              "      <td>NaN</td>\n",
              "      <td>2015-02-24 11:35:52 -0800</td>\n",
              "      <td>NaN</td>\n",
              "      <td>Eastern Time (US &amp; Canada)</td>\n",
              "    </tr>\n",
              "    <tr>\n",
              "      <th>1</th>\n",
              "      <td>570301130888122368</td>\n",
              "      <td>positive</td>\n",
              "      <td>0.3486</td>\n",
              "      <td>NaN</td>\n",
              "      <td>0.0000</td>\n",
              "      <td>Virgin America</td>\n",
              "      <td>NaN</td>\n",
              "      <td>jnardino</td>\n",
              "      <td>NaN</td>\n",
              "      <td>0</td>\n",
              "      <td>@VirginAmerica plus you've added commercials t...</td>\n",
              "      <td>NaN</td>\n",
              "      <td>2015-02-24 11:15:59 -0800</td>\n",
              "      <td>NaN</td>\n",
              "      <td>Pacific Time (US &amp; Canada)</td>\n",
              "    </tr>\n",
              "    <tr>\n",
              "      <th>2</th>\n",
              "      <td>570301083672813571</td>\n",
              "      <td>neutral</td>\n",
              "      <td>0.6837</td>\n",
              "      <td>NaN</td>\n",
              "      <td>NaN</td>\n",
              "      <td>Virgin America</td>\n",
              "      <td>NaN</td>\n",
              "      <td>yvonnalynn</td>\n",
              "      <td>NaN</td>\n",
              "      <td>0</td>\n",
              "      <td>@VirginAmerica I didn't today... Must mean I n...</td>\n",
              "      <td>NaN</td>\n",
              "      <td>2015-02-24 11:15:48 -0800</td>\n",
              "      <td>Lets Play</td>\n",
              "      <td>Central Time (US &amp; Canada)</td>\n",
              "    </tr>\n",
              "    <tr>\n",
              "      <th>3</th>\n",
              "      <td>570301031407624196</td>\n",
              "      <td>negative</td>\n",
              "      <td>1.0000</td>\n",
              "      <td>Bad Flight</td>\n",
              "      <td>0.7033</td>\n",
              "      <td>Virgin America</td>\n",
              "      <td>NaN</td>\n",
              "      <td>jnardino</td>\n",
              "      <td>NaN</td>\n",
              "      <td>0</td>\n",
              "      <td>@VirginAmerica it's really aggressive to blast...</td>\n",
              "      <td>NaN</td>\n",
              "      <td>2015-02-24 11:15:36 -0800</td>\n",
              "      <td>NaN</td>\n",
              "      <td>Pacific Time (US &amp; Canada)</td>\n",
              "    </tr>\n",
              "    <tr>\n",
              "      <th>4</th>\n",
              "      <td>570300817074462722</td>\n",
              "      <td>negative</td>\n",
              "      <td>1.0000</td>\n",
              "      <td>Can't Tell</td>\n",
              "      <td>1.0000</td>\n",
              "      <td>Virgin America</td>\n",
              "      <td>NaN</td>\n",
              "      <td>jnardino</td>\n",
              "      <td>NaN</td>\n",
              "      <td>0</td>\n",
              "      <td>@VirginAmerica and it's a really big bad thing...</td>\n",
              "      <td>NaN</td>\n",
              "      <td>2015-02-24 11:14:45 -0800</td>\n",
              "      <td>NaN</td>\n",
              "      <td>Pacific Time (US &amp; Canada)</td>\n",
              "    </tr>\n",
              "  </tbody>\n",
              "</table>\n",
              "</div>"
            ],
            "text/plain": [
              "             tweet_id  ...               user_timezone\n",
              "0  570306133677760513  ...  Eastern Time (US & Canada)\n",
              "1  570301130888122368  ...  Pacific Time (US & Canada)\n",
              "2  570301083672813571  ...  Central Time (US & Canada)\n",
              "3  570301031407624196  ...  Pacific Time (US & Canada)\n",
              "4  570300817074462722  ...  Pacific Time (US & Canada)\n",
              "\n",
              "[5 rows x 15 columns]"
            ]
          },
          "metadata": {
            "tags": []
          },
          "execution_count": 14
        }
      ]
    },
    {
      "cell_type": "code",
      "metadata": {
        "colab": {
          "base_uri": "https://localhost:8080/"
        },
        "id": "427Q0CKLUk8x",
        "outputId": "15280e9f-b626-47bb-bccd-8e38ab067529"
      },
      "source": [
        "#removing the neutral sentiments considering that positive and negative sentiments matter more \n",
        "df=df[df['airline_sentiment']!='neutral']\n",
        "#now since neutral elements are deleted so I need to reset the indices\n",
        "df.reset_index(inplace=True,drop=True)\n",
        "#positive sentiments to 1 and negative to 0 \n",
        "def partition(x):\n",
        "    if x =='positive':\n",
        "        return 1\n",
        "    return 0\n",
        "actualSentiment = df['airline_sentiment']\n",
        "positiveNegative = actualSentiment.map(partition) \n",
        "df['Sentiment'] = positiveNegative\n",
        "df['Sentiment'].value_counts() "
      ],
      "execution_count": 15,
      "outputs": [
        {
          "output_type": "execute_result",
          "data": {
            "text/plain": [
              "0    9178\n",
              "1    2363\n",
              "Name: Sentiment, dtype: int64"
            ]
          },
          "metadata": {
            "tags": []
          },
          "execution_count": 15
        }
      ]
    },
    {
      "cell_type": "code",
      "metadata": {
        "colab": {
          "base_uri": "https://localhost:8080/",
          "height": 462
        },
        "id": "vQQ4U9iRl17E",
        "outputId": "3ea6eeff-e4e1-44a0-ecf5-34629dceb8ae"
      },
      "source": [
        "df.head()"
      ],
      "execution_count": null,
      "outputs": [
        {
          "output_type": "execute_result",
          "data": {
            "text/html": [
              "<div>\n",
              "<style scoped>\n",
              "    .dataframe tbody tr th:only-of-type {\n",
              "        vertical-align: middle;\n",
              "    }\n",
              "\n",
              "    .dataframe tbody tr th {\n",
              "        vertical-align: top;\n",
              "    }\n",
              "\n",
              "    .dataframe thead th {\n",
              "        text-align: right;\n",
              "    }\n",
              "</style>\n",
              "<table border=\"1\" class=\"dataframe\">\n",
              "  <thead>\n",
              "    <tr style=\"text-align: right;\">\n",
              "      <th></th>\n",
              "      <th>tweet_id</th>\n",
              "      <th>airline_sentiment</th>\n",
              "      <th>airline_sentiment_confidence</th>\n",
              "      <th>negativereason</th>\n",
              "      <th>negativereason_confidence</th>\n",
              "      <th>airline</th>\n",
              "      <th>airline_sentiment_gold</th>\n",
              "      <th>name</th>\n",
              "      <th>negativereason_gold</th>\n",
              "      <th>retweet_count</th>\n",
              "      <th>text</th>\n",
              "      <th>tweet_coord</th>\n",
              "      <th>tweet_created</th>\n",
              "      <th>tweet_location</th>\n",
              "      <th>user_timezone</th>\n",
              "      <th>Sentiment</th>\n",
              "    </tr>\n",
              "  </thead>\n",
              "  <tbody>\n",
              "    <tr>\n",
              "      <th>0</th>\n",
              "      <td>570301130888122368</td>\n",
              "      <td>positive</td>\n",
              "      <td>0.3486</td>\n",
              "      <td>NaN</td>\n",
              "      <td>0.0000</td>\n",
              "      <td>Virgin America</td>\n",
              "      <td>NaN</td>\n",
              "      <td>jnardino</td>\n",
              "      <td>NaN</td>\n",
              "      <td>0</td>\n",
              "      <td>@VirginAmerica plus you've added commercials t...</td>\n",
              "      <td>NaN</td>\n",
              "      <td>2015-02-24 11:15:59 -0800</td>\n",
              "      <td>NaN</td>\n",
              "      <td>Pacific Time (US &amp; Canada)</td>\n",
              "      <td>1</td>\n",
              "    </tr>\n",
              "    <tr>\n",
              "      <th>1</th>\n",
              "      <td>570301031407624196</td>\n",
              "      <td>negative</td>\n",
              "      <td>1.0000</td>\n",
              "      <td>Bad Flight</td>\n",
              "      <td>0.7033</td>\n",
              "      <td>Virgin America</td>\n",
              "      <td>NaN</td>\n",
              "      <td>jnardino</td>\n",
              "      <td>NaN</td>\n",
              "      <td>0</td>\n",
              "      <td>@VirginAmerica it's really aggressive to blast...</td>\n",
              "      <td>NaN</td>\n",
              "      <td>2015-02-24 11:15:36 -0800</td>\n",
              "      <td>NaN</td>\n",
              "      <td>Pacific Time (US &amp; Canada)</td>\n",
              "      <td>0</td>\n",
              "    </tr>\n",
              "    <tr>\n",
              "      <th>2</th>\n",
              "      <td>570300817074462722</td>\n",
              "      <td>negative</td>\n",
              "      <td>1.0000</td>\n",
              "      <td>Can't Tell</td>\n",
              "      <td>1.0000</td>\n",
              "      <td>Virgin America</td>\n",
              "      <td>NaN</td>\n",
              "      <td>jnardino</td>\n",
              "      <td>NaN</td>\n",
              "      <td>0</td>\n",
              "      <td>@VirginAmerica and it's a really big bad thing...</td>\n",
              "      <td>NaN</td>\n",
              "      <td>2015-02-24 11:14:45 -0800</td>\n",
              "      <td>NaN</td>\n",
              "      <td>Pacific Time (US &amp; Canada)</td>\n",
              "      <td>0</td>\n",
              "    </tr>\n",
              "    <tr>\n",
              "      <th>3</th>\n",
              "      <td>570300767074181121</td>\n",
              "      <td>negative</td>\n",
              "      <td>1.0000</td>\n",
              "      <td>Can't Tell</td>\n",
              "      <td>0.6842</td>\n",
              "      <td>Virgin America</td>\n",
              "      <td>NaN</td>\n",
              "      <td>jnardino</td>\n",
              "      <td>NaN</td>\n",
              "      <td>0</td>\n",
              "      <td>@VirginAmerica seriously would pay $30 a fligh...</td>\n",
              "      <td>NaN</td>\n",
              "      <td>2015-02-24 11:14:33 -0800</td>\n",
              "      <td>NaN</td>\n",
              "      <td>Pacific Time (US &amp; Canada)</td>\n",
              "      <td>0</td>\n",
              "    </tr>\n",
              "    <tr>\n",
              "      <th>4</th>\n",
              "      <td>570300616901320704</td>\n",
              "      <td>positive</td>\n",
              "      <td>0.6745</td>\n",
              "      <td>NaN</td>\n",
              "      <td>0.0000</td>\n",
              "      <td>Virgin America</td>\n",
              "      <td>NaN</td>\n",
              "      <td>cjmcginnis</td>\n",
              "      <td>NaN</td>\n",
              "      <td>0</td>\n",
              "      <td>@VirginAmerica yes, nearly every time I fly VX...</td>\n",
              "      <td>NaN</td>\n",
              "      <td>2015-02-24 11:13:57 -0800</td>\n",
              "      <td>San Francisco CA</td>\n",
              "      <td>Pacific Time (US &amp; Canada)</td>\n",
              "      <td>1</td>\n",
              "    </tr>\n",
              "  </tbody>\n",
              "</table>\n",
              "</div>"
            ],
            "text/plain": [
              "             tweet_id airline_sentiment  ...               user_timezone Sentiment\n",
              "0  570301130888122368          positive  ...  Pacific Time (US & Canada)         1\n",
              "1  570301031407624196          negative  ...  Pacific Time (US & Canada)         0\n",
              "2  570300817074462722          negative  ...  Pacific Time (US & Canada)         0\n",
              "3  570300767074181121          negative  ...  Pacific Time (US & Canada)         0\n",
              "4  570300616901320704          positive  ...  Pacific Time (US & Canada)         1\n",
              "\n",
              "[5 rows x 16 columns]"
            ]
          },
          "metadata": {
            "tags": []
          },
          "execution_count": 47
        }
      ]
    },
    {
      "cell_type": "code",
      "metadata": {
        "id": "TCKuj2QT3bAp"
      },
      "source": [
        "#tweets conssits of every document as an array of tokenized words which are later appended to docs \n",
        "tweets=[word_tokenize(tweet) for tweet in df['text']]\n",
        "docs=[]\n",
        "for j in range(0,len(tweets)):\n",
        "    docs.append(tweets[j])"
      ],
      "execution_count": 16,
      "outputs": []
    },
    {
      "cell_type": "code",
      "metadata": {
        "id": "IY91D9RQ3bDS"
      },
      "source": [
        "#stops includes both the stopwords and punctuations\n",
        "from nltk.corpus import stopwords\n",
        "import string\n",
        "stops = set(stopwords.words('english'))\n",
        "punctuations = list(string.punctuation)\n",
        "stops.update(punctuations)"
      ],
      "execution_count": 17,
      "outputs": []
    },
    {
      "cell_type": "code",
      "metadata": {
        "id": "MxqkEQr83bHI"
      },
      "source": [
        "#to get the simple pos(part of speech) tag\n",
        "from nltk.corpus import wordnet\n",
        "def get_simple_pos(tag):\n",
        "    if tag.startswith('J'):\n",
        "        return wordnet.ADJ\n",
        "    elif tag.startswith('V'):\n",
        "        return wordnet.VERB\n",
        "    elif tag.startswith('N'):\n",
        "        return wordnet.NOUN\n",
        "    elif tag.startswith('R'):\n",
        "        return wordnet.ADV\n",
        "    else:\n",
        "        return wordnet.NOUN"
      ],
      "execution_count": 18,
      "outputs": []
    },
    {
      "cell_type": "code",
      "metadata": {
        "id": "XYzWrBBK4BEL"
      },
      "source": [
        "#to get the pos tag for a word\n",
        "from nltk import pos_tag\n",
        "# now we are going to clean our data \n",
        "# we will remove stopwords and punctuations and lemmatize each document\n",
        "from nltk.stem import WordNetLemmatizer\n",
        "lemmatizer=WordNetLemmatizer()\n",
        "def clean(words):\n",
        "    output=[]\n",
        "    for word in words:\n",
        "        if word.lower() not in stops:\n",
        "            pos=pos_tag(word)\n",
        "            clean_word=lemmatizer.lemmatize(word,pos=get_simple_pos(pos[0][1]))\n",
        "            output.append(clean_word.lower())\n",
        "    str1=\" \".join(output).encode('utf-8')        \n",
        "    return str1\n",
        "docs=[ clean(doc) for doc in docs]      "
      ],
      "execution_count": 19,
      "outputs": []
    },
    {
      "cell_type": "code",
      "metadata": {
        "colab": {
          "base_uri": "https://localhost:8080/"
        },
        "id": "i9FJX1MT4BHf",
        "outputId": "52ebd4b7-e9a8-4cc1-bddc-0814ef06721f"
      },
      "source": [
        "#let's look at how our texts look after cleaning and position-tag lemmatization\n",
        "docs[:5]"
      ],
      "execution_count": 20,
      "outputs": [
        {
          "output_type": "execute_result",
          "data": {
            "text/plain": [
              "[b\"virginamerica plus 've added commercial experience ... tacky\",\n",
              " b\"virginamerica 's really aggressive blast obnoxious `` entertainment '' guest face amp little recourse\",\n",
              " b\"virginamerica 's really big bad thing\",\n",
              " b\"virginamerica seriously would pay 30 flight seat n't playing 's really bad thing flying va\",\n",
              " b'virginamerica yes nearly every time fly vx \\xe2\\x80\\x9c ear worm \\xe2\\x80\\x9d \\xe2\\x80\\x99 go away']"
            ]
          },
          "metadata": {
            "tags": []
          },
          "execution_count": 20
        }
      ]
    },
    {
      "cell_type": "code",
      "metadata": {
        "colab": {
          "base_uri": "https://localhost:8080/"
        },
        "id": "7eSaao773bZX",
        "outputId": "c3ee6424-4f60-46ba-d4cd-bb6e4e3c26b2"
      },
      "source": [
        "df['text'][:5]"
      ],
      "execution_count": 21,
      "outputs": [
        {
          "output_type": "execute_result",
          "data": {
            "text/plain": [
              "0    @VirginAmerica plus you've added commercials t...\n",
              "1    @VirginAmerica it's really aggressive to blast...\n",
              "2    @VirginAmerica and it's a really big bad thing...\n",
              "3    @VirginAmerica seriously would pay $30 a fligh...\n",
              "4    @VirginAmerica yes, nearly every time I fly VX...\n",
              "Name: text, dtype: object"
            ]
          },
          "metadata": {
            "tags": []
          },
          "execution_count": 21
        }
      ]
    },
    {
      "cell_type": "code",
      "metadata": {
        "id": "z55Pb6CbecfX"
      },
      "source": [
        "#training involves our clean text as independent varaible and the predicted sentiments as the dependent variable \n",
        "X = np.array(docs)\n",
        "Y = np.array(df['Sentiment'])\n",
        "# splitting into train-test-validation set\n",
        "X_train, X_test, Y_train, Y_test = train_test_split(X, Y, test_size=.33, random_state=0)\n",
        "X_tr, X_cv, Y_tr, Y_cv = train_test_split(X_train, Y_train, test_size=.2, random_state=0)"
      ],
      "execution_count": 22,
      "outputs": []
    },
    {
      "cell_type": "code",
      "metadata": {
        "colab": {
          "base_uri": "https://localhost:8080/"
        },
        "id": "_KuiVsbZ6i7w",
        "outputId": "91978ab4-c98d-4fa9-ebbb-cbca4f5dd938"
      },
      "source": [
        "#looking at the shapes of each of the training, test and validation sets \n",
        "print('X_train, Y_train', X_train.shape, Y_train.shape)\n",
        "print('X_test, Y_test', X_test.shape, Y_test.shape)\n",
        "print('X_tr, Y_tr', X_tr.shape, Y_tr.shape)\n",
        "print('X_cv, Y_cv', X_cv.shape, Y_cv.shape)"
      ],
      "execution_count": 23,
      "outputs": [
        {
          "output_type": "stream",
          "text": [
            "X_train, Y_train (7732,) (7732,)\n",
            "X_test, Y_test (3809,) (3809,)\n",
            "X_tr, Y_tr (6185,) (6185,)\n",
            "X_cv, Y_cv (1547,) (1547,)\n"
          ],
          "name": "stdout"
        }
      ]
    },
    {
      "cell_type": "code",
      "metadata": {
        "colab": {
          "base_uri": "https://localhost:8080/"
        },
        "id": "1aMaBIKf0OIU",
        "outputId": "3693cdd3-501e-40d6-998b-383c11ac6db3"
      },
      "source": [
        ""
      ],
      "execution_count": 63,
      "outputs": [
        {
          "output_type": "execute_result",
          "data": {
            "text/plain": [
              "array([b'southwestair boyfriend loved imaginedragons since 2009 amp would awesome go vegas event way help',\n",
              "       b'southwestair finally thx',\n",
              "       b'jetblue flight delayed 2.5 hour insane every flight make nyc'],\n",
              "      dtype='|S202')"
            ]
          },
          "metadata": {
            "tags": []
          },
          "execution_count": 63
        }
      ]
    },
    {
      "cell_type": "code",
      "metadata": {
        "id": "Bd_DSJKRQsSg"
      },
      "source": [
        "#uses training and cross validation sets for hyperparamter tuning\n",
        "def mulnb(X_train,X_cv,Y_train,Y_cv):\n",
        "    best_alpha=0\n",
        "    max_roc_auc=-1\n",
        "    #appending auc scores of cross validation and training set in the below arrays respectively\n",
        "    pred_cv = []\n",
        "    pred_train = []\n",
        "    alpha=[100,50,10,5,1,0.5,0.1,0.05,0.01,0.005] \n",
        "    for i in alpha[-10:]:\n",
        "        mulbnb = MultinomialNB(alpha=i)\n",
        "        mulbnb.fit(X_train,Y_train)\n",
        "        probs = mulbnb.predict_proba(X_cv)\n",
        "        prob = mulbnb.predict_proba(X_train)\n",
        "        probs = probs[:,1]\n",
        "        prob = prob[:,1]\n",
        "        auc_score_cv = roc_auc_score(Y_cv,probs)\n",
        "        auc_score_train = roc_auc_score(Y_train,prob)\n",
        "        print(i,\" ------> \",auc_score_cv)\n",
        "        pred_cv.append(auc_score_cv)\n",
        "        pred_train.append(auc_score_train)\n",
        "        if(max_roc_auc<auc_score_cv):\n",
        "            max_roc_auc=auc_score_cv\n",
        "            best_alpha=i\n",
        "    print(f\"\\n Best alpha Value {best_alpha} with highest roc_auc Score is {max_roc_auc}\")\n",
        "    sns.set_style(\"darkgrid\")\n",
        "    plt.xscale('log')\n",
        "    plt.plot(alpha, pred_cv,'r-', label = 'CV Data')\n",
        "    plt.plot(alpha,pred_train,'g-', label ='Train Data')\n",
        "    plt.legend(loc='upper right')\n",
        "    plt.title(r'Auc Score v/s $\\alpha$')\n",
        "    plt.xlabel(r\"alpha values\",fontsize=12)\n",
        "    plt.ylabel(\"roc_auc\",fontsize=12)\n",
        "    plt.show()\n",
        "    # calculate roc curve\n",
        "    fpr, tpr, thresholds = roc_curve(Y_cv,probs)\n",
        "    # plot no skill\n",
        "    plt.plot([0, 1], [0, 1], linestyle='--')\n",
        "    # plot the roc curve for the model\n",
        "    plt.plot(fpr, tpr, marker='.')\n",
        "    #plt.plot(k,pred_cv)\n",
        "    plt.title(\"Line Plot of ROC Curve on Train Data\")\n",
        "    plt.ylabel('True Positive Rate')\n",
        "    plt.xlabel('False Positive Rate')\n",
        "    plt.show()\n"
      ],
      "execution_count": 40,
      "outputs": []
    },
    {
      "cell_type": "code",
      "metadata": {
        "id": "wZnG3ohlt4AN"
      },
      "source": [
        "#The below two lists are created to store auc and f1 scores respectively for all the vectorizations we are going to use \n",
        "AUC,F1=[],[]\n",
        "def testing(X_train,Y_train,X_test,Y_test,optimal_alpha):\n",
        "    bnb = MultinomialNB(optimal_alpha,fit_prior=True, class_prior=None)\n",
        "    bnb.fit(X_train,Y_train)\n",
        "    probs = bnb.predict_proba(X_test) \n",
        "    # keep probabilities for the positive outcome only\n",
        "    probs = probs[:, 1]\n",
        "    print(\"AUC Score\",roc_auc_score(Y_test,probs))\n",
        "    AUC.append(round(roc_auc_score(Y_test,probs),2))\n",
        "    # calculate roc curve\n",
        "    fpr, tpr, thresholds = roc_curve(Y_test,probs)\n",
        "    # plot no skill\n",
        "    plt.plot([0, 1], [0, 1], linestyle='--')\n",
        "    # plot the roc curve for the model\n",
        "    plt.plot(fpr, tpr, marker='.')\n",
        "    plt.title(\"Line Plot of ROC Curve on Test Data\")\n",
        "    plt.ylabel('True Positive Rate')\n",
        "    plt.xlabel('False Positive Rate')    \n",
        "    plt.show()\n",
        "    prediction=bnb.predict(X_test)\n",
        "    cm=confusion_matrix(Y_test,prediction)\n",
        "    cm1 = pd.DataFrame(cm , index = ['positive','negative'] , columns = ['positive','negative'])\n",
        "    plt.figure(figsize = (10,10))\n",
        "    ax=sns.heatmap(cm1,cmap= \"Blues\", linecolor = 'black' , linewidth = 1 , annot = True, fmt='')\n",
        "    ax.set(xlabel=\"Actual Sentiment\", ylabel = \"Predicted Sentiment\")\n",
        "    #printing f1 score and hamming loss\n",
        "    print(\"f1 score for data :\",metrics.f1_score(Y_test, prediction))\n",
        "    F1.append(round(metrics.f1_score(Y_test, prediction),2))\n",
        "    print(\"hamming loss for data:\",metrics.hamming_loss(Y_test,prediction))\n",
        "    print(\"Precision recall report for data:\\n\",metrics.classification_report(Y_test, prediction))"
      ],
      "execution_count": 25,
      "outputs": []
    },
    {
      "cell_type": "code",
      "metadata": {
        "colab": {
          "base_uri": "https://localhost:8080/"
        },
        "id": "KsfOPlqsTbv2",
        "outputId": "73582555-60c2-400c-ab7e-c2c3abebda7e"
      },
      "source": [
        "#Bag Of Words Vectorization with unigrams and bigrams\n",
        "count_vect = CountVectorizer(ngram_range=(1,2)) #in scikit-learn\n",
        "# In below line we get a Bag of Word model that has cleaned the text, removing non-aphanumeric characters and stop words by the fitting part and \n",
        "# a matrix where each row represents a specific text in corpus and each column represents a word in vocabulary, that is, all words found in corpus\n",
        "#from the transform\n",
        "bow= count_vect.fit(X_tr)\n",
        "bow_train = bow.transform(X_tr)\n",
        "sum_words = bow_train.sum(axis=0) \n",
        "words_freq = [(word, sum_words[0, idx]) for word, idx in bow.vocabulary_.items()]\n",
        "words_freq =sorted(words_freq, key = lambda x: x[1], reverse=True)\n",
        "print(\"Top 20 words with their frequencies in training set are\",words_freq[:20])\n",
        "print(\"The type of count vectorizer \",type(bow_train))\n",
        "print(\"The shape of out text BOW vectorizer \",bow_train.get_shape())\n",
        "#print(\"the number of unique words \", final_counts.get_shape()[1])\n",
        "bow_cv = count_vect.transform(X_cv)\n",
        "bow_test = count_vect.transform(X_test)\n",
        "print(\"CV Data Size: \",bow_cv.shape)\n",
        "print(\"Test Data Size: \",bow_test.shape)"
      ],
      "execution_count": 26,
      "outputs": [
        {
          "output_type": "stream",
          "text": [
            "Top 20 words with their frequencies in training set are [('united', 1846), ('flight', 1751), ('usairways', 1385), ('americanair', 1288), ('southwestair', 984), ('jetblue', 904), ('hour', 617), ('get', 591), ('service', 520), ('cancelled', 517), ('customer', 513), ('thanks', 506), ('time', 435), ('bag', 394), ('call', 386), ('help', 378), ('plane', 375), ('co', 340), ('http', 338), ('http co', 338)]\n",
            "The type of count vectorizer  <class 'scipy.sparse.csr.csr_matrix'>\n",
            "The shape of out text BOW vectorizer  (6185, 52558)\n",
            "CV Data Size:  (1547, 52558)\n",
            "Test Data Size:  (3809, 52558)\n"
          ],
          "name": "stdout"
        }
      ]
    },
    {
      "cell_type": "code",
      "metadata": {
        "colab": {
          "base_uri": "https://localhost:8080/"
        },
        "id": "Iqet8vUZTbtS",
        "outputId": "3e3bfe32-adc1-4d20-caf8-86ba371d2de2"
      },
      "source": [
        "#Normalize bow data for effective model training\n",
        "from sklearn import preprocessing\n",
        "from sklearn.preprocessing import Normalizer\n",
        "bow_train=preprocessing.normalize(bow_train)\n",
        "bow_cv=preprocessing.normalize(bow_cv)\n",
        "bow_test=preprocessing.normalize(bow_test)\n",
        "print(\"The shape of out text BOW vectorizer \",bow_train.get_shape())\n",
        "print(\"CV Data Size: \",bow_cv.shape)\n",
        "print(\"Test Data Size: \",bow_test.shape)"
      ],
      "execution_count": 27,
      "outputs": [
        {
          "output_type": "stream",
          "text": [
            "The shape of out text BOW vectorizer  (6185, 52558)\n",
            "CV Data Size:  (1547, 52558)\n",
            "Test Data Size:  (3809, 52558)\n"
          ],
          "name": "stdout"
        }
      ]
    },
    {
      "cell_type": "code",
      "metadata": {
        "colab": {
          "base_uri": "https://localhost:8080/",
          "height": 785
        },
        "id": "rMw41szzT3ll",
        "outputId": "f80114a8-5d3c-476e-a682-4b8c3bb5057c"
      },
      "source": [
        "# find optimal value of alpha for count vectorization\n",
        "mulnb(bow_train,bow_cv,Y_tr,Y_cv)"
      ],
      "execution_count": 28,
      "outputs": [
        {
          "output_type": "stream",
          "text": [
            "100  ------>  0.8119084861986697\n",
            "50  ------>  0.8268131856556752\n",
            "10  ------>  0.8584027218193213\n",
            "5  ------>  0.8723251857820754\n",
            "1  ------>  0.9040911556672092\n",
            "0.5  ------>  0.9170182174400783\n",
            "0.1  ------>  0.9373238954459032\n",
            "0.05  ------>  0.9395411669905674\n",
            "0.01  ------>  0.9349933903187921\n",
            "0.005  ------>  0.9311724152459803\n",
            "\n",
            " Best alpha Value 0.05 with highest roc_auc Score is 0.9395411669905674\n"
          ],
          "name": "stdout"
        },
        {
          "output_type": "display_data",
          "data": {
            "image/png": "[encoded data removed]",
            "text/plain": [
              "<Figure size 432x288 with 1 Axes>"
            ]
          },
          "metadata": {
            "tags": []
          }
        },
        {
          "output_type": "display_data",
          "data": {
            "image/png": "[encoded data removed]",
            "text/plain": [
              "<Figure size 432x288 with 1 Axes>"
            ]
          },
          "metadata": {
            "tags": []
          }
        }
      ]
    },
    {
      "cell_type": "code",
      "metadata": {
        "colab": {
          "base_uri": "https://localhost:8080/",
          "height": 1000
        },
        "id": "dCPn_yICT3rZ",
        "outputId": "16f88fa2-c093-4cb2-d2de-76cd1cbf3a33"
      },
      "source": [
        "#optimal_alpha=0.05\n",
        "testing(bow_train,Y_tr,bow_test,Y_test,optimal_alpha=0.05)"
      ],
      "execution_count": 29,
      "outputs": [
        {
          "output_type": "stream",
          "text": [
            "AUC Score 0.9511475432969427\n"
          ],
          "name": "stdout"
        },
        {
          "output_type": "display_data",
          "data": {
            "image/png": "[encoded data removed]",
            "text/plain": [
              "<Figure size 432x288 with 1 Axes>"
            ]
          },
          "metadata": {
            "tags": []
          }
        },
        {
          "output_type": "stream",
          "text": [
            "f1 score for data : 0.6926677067082684\n",
            "hamming loss for data: 0.1034392228931478\n",
            "Precision recall report for data:\n",
            "               precision    recall  f1-score   support\n",
            "\n",
            "           0       0.89      0.99      0.94      3008\n",
            "           1       0.92      0.55      0.69       801\n",
            "\n",
            "    accuracy                           0.90      3809\n",
            "   macro avg       0.91      0.77      0.82      3809\n",
            "weighted avg       0.90      0.90      0.89      3809\n",
            "\n"
          ],
          "name": "stdout"
        },
        {
          "output_type": "display_data",
          "data": {
            "image/png": "[encoded data removed]",
            "text/plain": [
              "<Figure size 720x720 with 2 Axes>"
            ]
          },
          "metadata": {
            "tags": []
          }
        }
      ]
    },
    {
      "cell_type": "code",
      "metadata": {
        "colab": {
          "base_uri": "https://localhost:8080/"
        },
        "id": "FPqcTDwRT3j8",
        "outputId": "909bdf3f-ca23-43ce-8d57-61207b8bba3d"
      },
      "source": [
        "#TF-IDF Vectorization with unigrams and bigrams\n",
        "tf_idf_vect = TfidfVectorizer(ngram_range=(1,2))\n",
        "tfidf_train = tf_idf_vect.fit_transform(X_tr)\n",
        "features = tf_idf_vect.get_feature_names()\n",
        "print(\"some sample features(unique words in the corpus)\",features[10000:10010])                                                              \n",
        "print(\"The type of count vectorizer \",type(tfidf_train))\n",
        "print(\"The shape of out text TFIDF vectorizer \",tfidf_train.get_shape())\n",
        "tfidf_cv = tf_idf_vect.transform(X_cv)\n",
        "tfidf_test = tf_idf_vect.transform(X_test)\n",
        "print(\"CV Data Size: \",tfidf_cv.shape)\n",
        "print(\"Test Data Size: \",tfidf_test.shape)"
      ],
      "execution_count": 37,
      "outputs": [
        {
          "output_type": "stream",
          "text": [
            "some sample features(unique words in the corpus) ['cheapslogannotmotto', 'cheat', 'cheat go', 'cheatcustomers', 'cheated', 'cheated sorry', 'check', 'check 10', 'check 24', 'check 3rd']\n",
            "The type of count vectorizer  <class 'scipy.sparse.csr.csr_matrix'>\n",
            "The shape of out text TFIDF vectorizer  (6185, 52558)\n",
            "CV Data Size:  (1547, 52558)\n",
            "Test Data Size:  (3809, 52558)\n"
          ],
          "name": "stdout"
        }
      ]
    },
    {
      "cell_type": "code",
      "metadata": {
        "colab": {
          "base_uri": "https://localhost:8080/",
          "height": 17
        },
        "id": "3ihjBXUhvf1E",
        "outputId": "f9deac48-8b2f-4b41-a7de-76c1863b3733"
      },
      "source": [
        "import pickle\n",
        "pickle.dump(tf_idf_vect,open('transform.pkl','wb'))\n",
        "from google.colab import files\n",
        "files.download('transform.pkl')"
      ],
      "execution_count": 39,
      "outputs": [
        {
          "output_type": "display_data",
          "data": {
            "application/javascript": [
              "\n",
              "    async function download(id, filename, size) {\n",
              "      if (!google.colab.kernel.accessAllowed) {\n",
              "        return;\n",
              "      }\n",
              "      const div = document.createElement('div');\n",
              "      const label = document.createElement('label');\n",
              "      label.textContent = `Downloading \"${filename}\": `;\n",
              "      div.appendChild(label);\n",
              "      const progress = document.createElement('progress');\n",
              "      progress.max = size;\n",
              "      div.appendChild(progress);\n",
              "      document.body.appendChild(div);\n",
              "\n",
              "      const buffers = [];\n",
              "      let downloaded = 0;\n",
              "\n",
              "      const channel = await google.colab.kernel.comms.open(id);\n",
              "      // Send a message to notify the kernel that we're ready.\n",
              "      channel.send({})\n",
              "\n",
              "      for await (const message of channel.messages) {\n",
              "        // Send a message to notify the kernel that we're ready.\n",
              "        channel.send({})\n",
              "        if (message.buffers) {\n",
              "          for (const buffer of message.buffers) {\n",
              "            buffers.push(buffer);\n",
              "            downloaded += buffer.byteLength;\n",
              "            progress.value = downloaded;\n",
              "          }\n",
              "        }\n",
              "      }\n",
              "      const blob = new Blob(buffers, {type: 'application/binary'});\n",
              "      const a = document.createElement('a');\n",
              "      a.href = window.URL.createObjectURL(blob);\n",
              "      a.download = filename;\n",
              "      div.appendChild(a);\n",
              "      a.click();\n",
              "      div.remove();\n",
              "    }\n",
              "  "
            ],
            "text/plain": [
              "<IPython.core.display.Javascript object>"
            ]
          },
          "metadata": {
            "tags": []
          }
        },
        {
          "output_type": "display_data",
          "data": {
            "application/javascript": [
              "download(\"download_f240be1b-5101-4e98-9ec0-8ab23ce76f12\", \"transform.pkl\", 3600709)"
            ],
            "text/plain": [
              "<IPython.core.display.Javascript object>"
            ]
          },
          "metadata": {
            "tags": []
          }
        }
      ]
    },
    {
      "cell_type": "code",
      "metadata": {
        "colab": {
          "base_uri": "https://localhost:8080/",
          "height": 359
        },
        "id": "SA1od8pc0S1U",
        "outputId": "431e8752-8d13-4b94-b4b5-536a4b985392"
      },
      "source": [
        "#displaying top 25 tfidf features\n",
        "def top_tfidf_feats(row, features, top_n=25):\n",
        "    ''' Get top n tfidf values in row and return them with their corresponding feature names.'''\n",
        "    topn_ids = np.argsort(row)[::-1][:top_n]\n",
        "    top_feats = [(features[i], row[i]) for i in topn_ids]\n",
        "    df = pd.DataFrame(top_feats)\n",
        "    df.columns = ['feature', 'tfidf']\n",
        "    return df\n",
        "\n",
        "top_tfidf = top_tfidf_feats(tfidf_train[1,:].toarray()[0],features,10)\n",
        "top_tfidf"
      ],
      "execution_count": 31,
      "outputs": [
        {
          "output_type": "execute_result",
          "data": {
            "text/html": [
              "<div>\n",
              "<style scoped>\n",
              "    .dataframe tbody tr th:only-of-type {\n",
              "        vertical-align: middle;\n",
              "    }\n",
              "\n",
              "    .dataframe tbody tr th {\n",
              "        vertical-align: top;\n",
              "    }\n",
              "\n",
              "    .dataframe thead th {\n",
              "        text-align: right;\n",
              "    }\n",
              "</style>\n",
              "<table border=\"1\" class=\"dataframe\">\n",
              "  <thead>\n",
              "    <tr style=\"text-align: right;\">\n",
              "      <th></th>\n",
              "      <th>feature</th>\n",
              "      <th>tfidf</th>\n",
              "    </tr>\n",
              "  </thead>\n",
              "  <tbody>\n",
              "    <tr>\n",
              "      <th>0</th>\n",
              "      <td>asked reimbursement</td>\n",
              "      <td>0.272420</td>\n",
              "    </tr>\n",
              "    <tr>\n",
              "      <th>1</th>\n",
              "      <td>reimbursement something</td>\n",
              "      <td>0.272420</td>\n",
              "    </tr>\n",
              "    <tr>\n",
              "      <th>2</th>\n",
              "      <td>added account</td>\n",
              "      <td>0.272420</td>\n",
              "    </tr>\n",
              "    <tr>\n",
              "      <th>3</th>\n",
              "      <td>like mile</td>\n",
              "      <td>0.272420</td>\n",
              "    </tr>\n",
              "    <tr>\n",
              "      <th>4</th>\n",
              "      <td>mile added</td>\n",
              "      <td>0.272420</td>\n",
              "    </tr>\n",
              "    <tr>\n",
              "      <th>5</th>\n",
              "      <td>account told</td>\n",
              "      <td>0.260198</td>\n",
              "    </tr>\n",
              "    <tr>\n",
              "      <th>6</th>\n",
              "      <td>usairways asked</td>\n",
              "      <td>0.251525</td>\n",
              "    </tr>\n",
              "    <tr>\n",
              "      <th>7</th>\n",
              "      <td>something like</td>\n",
              "      <td>0.251525</td>\n",
              "    </tr>\n",
              "    <tr>\n",
              "      <th>8</th>\n",
              "      <td>reimbursement</td>\n",
              "      <td>0.244798</td>\n",
              "    </tr>\n",
              "    <tr>\n",
              "      <th>9</th>\n",
              "      <td>added</td>\n",
              "      <td>0.223903</td>\n",
              "    </tr>\n",
              "  </tbody>\n",
              "</table>\n",
              "</div>"
            ],
            "text/plain": [
              "                   feature     tfidf\n",
              "0      asked reimbursement  0.272420\n",
              "1  reimbursement something  0.272420\n",
              "2            added account  0.272420\n",
              "3                like mile  0.272420\n",
              "4               mile added  0.272420\n",
              "5             account told  0.260198\n",
              "6          usairways asked  0.251525\n",
              "7           something like  0.251525\n",
              "8            reimbursement  0.244798\n",
              "9                    added  0.223903"
            ]
          },
          "metadata": {
            "tags": []
          },
          "execution_count": 31
        }
      ]
    },
    {
      "cell_type": "code",
      "metadata": {
        "colab": {
          "base_uri": "https://localhost:8080/"
        },
        "id": "NsWish_2TboA",
        "outputId": "51ea8f28-7e8b-4357-b84e-d911ccc60d8d"
      },
      "source": [
        "#Normalize Data for effective model training\n",
        "from sklearn import preprocessing\n",
        "from sklearn.preprocessing import Normalizer\n",
        "tfidf_train=preprocessing.normalize(tfidf_train)\n",
        "tfidf_cv=preprocessing.normalize(tfidf_cv)\n",
        "tfidf_test=preprocessing.normalize(tfidf_test)\n",
        "print(\"The shape of out text BOW vectorizer \",tfidf_train.get_shape())\n",
        "print(\"CV Data Size: \",tfidf_cv.shape)\n",
        "print(\"Test Data Size: \",tfidf_test.shape)"
      ],
      "execution_count": 32,
      "outputs": [
        {
          "output_type": "stream",
          "text": [
            "The shape of out text BOW vectorizer  (6185, 52558)\n",
            "CV Data Size:  (1547, 52558)\n",
            "Test Data Size:  (3809, 52558)\n"
          ],
          "name": "stdout"
        }
      ]
    },
    {
      "cell_type": "code",
      "metadata": {
        "colab": {
          "base_uri": "https://localhost:8080/",
          "height": 785
        },
        "id": "9QwgvjOOt39t",
        "outputId": "83aadb4e-ea94-48c1-a677-19687acd0390"
      },
      "source": [
        "# find optimal_alpha for tfidf vectorization\n",
        "mulnb(tfidf_train,tfidf_cv,Y_tr,Y_cv)"
      ],
      "execution_count": 33,
      "outputs": [
        {
          "output_type": "stream",
          "text": [
            "100  ------>  0.8454782933855788\n",
            "50  ------>  0.8505711712565769\n",
            "10  ------>  0.870373881489206\n",
            "5  ------>  0.8817815065859812\n",
            "1  ------>  0.910284769293159\n",
            "0.5  ------>  0.9217977279550015\n",
            "0.1  ------>  0.9353910245269206\n",
            "0.05  ------>  0.9343482222327556\n",
            "0.01  ------>  0.9243757669600208\n",
            "0.005  ------>  0.9192460223412492\n",
            "\n",
            " Best alpha Value 0.1 with highest roc_auc Score is 0.9353910245269206\n"
          ],
          "name": "stdout"
        },
        {
          "output_type": "display_data",
          "data": {
            "image/png": "[encoded data removed]",
            "text/plain": [
              "<Figure size 432x288 with 1 Axes>"
            ]
          },
          "metadata": {
            "tags": []
          }
        },
        {
          "output_type": "display_data",
          "data": {
            "image/png": "[encoded data removed]",
            "text/plain": [
              "<Figure size 432x288 with 1 Axes>"
            ]
          },
          "metadata": {
            "tags": []
          }
        }
      ]
    },
    {
      "cell_type": "code",
      "metadata": {
        "colab": {
          "base_uri": "https://localhost:8080/",
          "height": 1000
        },
        "id": "J_x5q-qKV97f",
        "outputId": "dd99cbbd-63c3-4c54-ba17-7f62e966a5a5"
      },
      "source": [
        "#using optimal alpha=0.1 for testing\n",
        "testing(tfidf_train,Y_tr,tfidf_test,Y_test,optimal_alpha=0.1)"
      ],
      "execution_count": 34,
      "outputs": [
        {
          "output_type": "stream",
          "text": [
            "AUC Score 0.9479098185114351\n"
          ],
          "name": "stdout"
        },
        {
          "output_type": "display_data",
          "data": {
            "image/png": "[encoded data removed]",
            "text/plain": [
              "<Figure size 432x288 with 1 Axes>"
            ]
          },
          "metadata": {
            "tags": []
          }
        },
        {
          "output_type": "stream",
          "text": [
            "f1 score for data : 0.6465798045602607\n",
            "hamming loss for data: 0.11394066684169073\n",
            "Precision recall report for data:\n",
            "               precision    recall  f1-score   support\n",
            "\n",
            "           0       0.88      0.99      0.93      3008\n",
            "           1       0.93      0.50      0.65       801\n",
            "\n",
            "    accuracy                           0.89      3809\n",
            "   macro avg       0.91      0.74      0.79      3809\n",
            "weighted avg       0.89      0.89      0.87      3809\n",
            "\n"
          ],
          "name": "stdout"
        },
        {
          "output_type": "display_data",
          "data": {
            "image/png": "[encoded data removed]",
            "text/plain": [
              "<Figure size 720x720 with 2 Axes>"
            ]
          },
          "metadata": {
            "tags": []
          }
        }
      ]
    },
    {
      "cell_type": "code",
      "metadata": {
        "colab": {
          "base_uri": "https://localhost:8080/"
        },
        "id": "1tfD_C1z1bSi",
        "outputId": "bc0bb00b-9150-4680-f048-4fbee55f1774"
      },
      "source": [
        "df=pd.read_csv('Tweets.csv')\n",
        "#removing the neutral sentiments considering that positive and negative sentiments matter more \n",
        "df=df[df['airline_sentiment']!='neutral']\n",
        "#now since neutral elements are deleted so I need to reset the indices\n",
        "df.reset_index(inplace=True,drop=True)\n",
        "#positive sentiments to 1 and negative to 0 \n",
        "def partition(x):\n",
        "    if x =='positive':\n",
        "        return 1\n",
        "    return 0\n",
        "actualSentiment = df['airline_sentiment']\n",
        "positiveNegative = actualSentiment.map(partition) \n",
        "df['Sentiment'] = positiveNegative\n",
        "df['Sentiment'].value_counts() "
      ],
      "execution_count": 72,
      "outputs": [
        {
          "output_type": "execute_result",
          "data": {
            "text/plain": [
              "0    9178\n",
              "1    2363\n",
              "Name: Sentiment, dtype: int64"
            ]
          },
          "metadata": {
            "tags": []
          },
          "execution_count": 72
        }
      ]
    },
    {
      "cell_type": "code",
      "metadata": {
        "colab": {
          "base_uri": "https://localhost:8080/",
          "height": 111
        },
        "id": "xm7-_uwbgswT",
        "outputId": "f02dc0d4-8b51-4179-fe87-79612837b02b"
      },
      "source": [
        "#Here I have displayed how the Multinomial Naive Bayes performed for both BOW and TF-IDF Vectorization\n",
        "from IPython.display import display\n",
        " # intialise data of lists.\n",
        "data = {'Category':['BOW Vectorization','TF-IDF Vectorization'],\n",
        "        'AUC Score':AUC,\n",
        "        'F1-Score':F1}\n",
        "df = pd.DataFrame(data)\n",
        " \n",
        "# Print the output.\n",
        "display(df)      "
      ],
      "execution_count": 35,
      "outputs": [
        {
          "output_type": "display_data",
          "data": {
            "text/html": [
              "<div>\n",
              "<style scoped>\n",
              "    .dataframe tbody tr th:only-of-type {\n",
              "        vertical-align: middle;\n",
              "    }\n",
              "\n",
              "    .dataframe tbody tr th {\n",
              "        vertical-align: top;\n",
              "    }\n",
              "\n",
              "    .dataframe thead th {\n",
              "        text-align: right;\n",
              "    }\n",
              "</style>\n",
              "<table border=\"1\" class=\"dataframe\">\n",
              "  <thead>\n",
              "    <tr style=\"text-align: right;\">\n",
              "      <th></th>\n",
              "      <th>Category</th>\n",
              "      <th>AUC Score</th>\n",
              "      <th>F1-Score</th>\n",
              "    </tr>\n",
              "  </thead>\n",
              "  <tbody>\n",
              "    <tr>\n",
              "      <th>0</th>\n",
              "      <td>BOW Vectorization</td>\n",
              "      <td>0.95</td>\n",
              "      <td>0.69</td>\n",
              "    </tr>\n",
              "    <tr>\n",
              "      <th>1</th>\n",
              "      <td>TF-IDF Vectorization</td>\n",
              "      <td>0.95</td>\n",
              "      <td>0.65</td>\n",
              "    </tr>\n",
              "  </tbody>\n",
              "</table>\n",
              "</div>"
            ],
            "text/plain": [
              "               Category  AUC Score  F1-Score\n",
              "0     BOW Vectorization       0.95      0.69\n",
              "1  TF-IDF Vectorization       0.95      0.65"
            ]
          },
          "metadata": {
            "tags": []
          }
        }
      ]
    },
    {
      "cell_type": "code",
      "metadata": {
        "colab": {
          "base_uri": "https://localhost:8080/"
        },
        "id": "t1mP3OK70p6E",
        "outputId": "376ae63a-858a-4558-b837-c96d306cb9c6"
      },
      "source": [
        "bnb=MultinomialNB()\n",
        "X = tf_idf_vect.transform(df['text'])\n",
        "y = df['Sentiment']\n",
        "# splitting into train-test-validation set\n",
        "from imblearn.combine import SMOTETomek\n",
        "smtom= SMOTETomek(random_state=100)\n",
        "X_smtom,y_smtom= smtom.fit_resample(X,y)\n",
        "X_train, X_test, Y_train, Y_test = train_test_split(X_smtom, y_smtom, test_size=.2, random_state=0)\n",
        "bnb.fit(X_train,Y_train)\n",
        "sample_text = ('The movie was awesome.Everything was good about it')\n",
        "k=tf_idf_vect.transform([sample_text])\n",
        "bnb.predict(k)"
      ],
      "execution_count": 80,
      "outputs": [
        {
          "output_type": "execute_result",
          "data": {
            "text/plain": [
              "array([1])"
            ]
          },
          "metadata": {
            "tags": []
          },
          "execution_count": 80
        }
      ]
    },
    {
      "cell_type": "code",
      "metadata": {
        "id": "A_vzXfqL3t-H"
      },
      "source": [
        "sample_text = ('The movie was pathetic and terrible.Nothing was making any sense. Highly unacceptable.')\n",
        "k=tf_idf_vect.transform([sample_text])\n",
        "bnb.predict(k)"
      ],
      "execution_count": null,
      "outputs": []
    },
    {
      "cell_type": "code",
      "metadata": {
        "colab": {
          "base_uri": "https://localhost:8080/",
          "height": 17
        },
        "id": "k6KkYG613uBn",
        "outputId": "4b32d7c5-8bc0-48ea-da9d-45a6a1eb3288"
      },
      "source": [
        "pickle.dump(bnb,open('nlp_model.pkl','wb'))\n",
        "from google.colab import files\n",
        "files.download('nlp_model.pkl')"
      ],
      "execution_count": 82,
      "outputs": [
        {
          "output_type": "display_data",
          "data": {
            "application/javascript": [
              "\n",
              "    async function download(id, filename, size) {\n",
              "      if (!google.colab.kernel.accessAllowed) {\n",
              "        return;\n",
              "      }\n",
              "      const div = document.createElement('div');\n",
              "      const label = document.createElement('label');\n",
              "      label.textContent = `Downloading \"${filename}\": `;\n",
              "      div.appendChild(label);\n",
              "      const progress = document.createElement('progress');\n",
              "      progress.max = size;\n",
              "      div.appendChild(progress);\n",
              "      document.body.appendChild(div);\n",
              "\n",
              "      const buffers = [];\n",
              "      let downloaded = 0;\n",
              "\n",
              "      const channel = await google.colab.kernel.comms.open(id);\n",
              "      // Send a message to notify the kernel that we're ready.\n",
              "      channel.send({})\n",
              "\n",
              "      for await (const message of channel.messages) {\n",
              "        // Send a message to notify the kernel that we're ready.\n",
              "        channel.send({})\n",
              "        if (message.buffers) {\n",
              "          for (const buffer of message.buffers) {\n",
              "            buffers.push(buffer);\n",
              "            downloaded += buffer.byteLength;\n",
              "            progress.value = downloaded;\n",
              "          }\n",
              "        }\n",
              "      }\n",
              "      const blob = new Blob(buffers, {type: 'application/binary'});\n",
              "      const a = document.createElement('a');\n",
              "      a.href = window.URL.createObjectURL(blob);\n",
              "      a.download = filename;\n",
              "      div.appendChild(a);\n",
              "      a.click();\n",
              "      div.remove();\n",
              "    }\n",
              "  "
            ],
            "text/plain": [
              "<IPython.core.display.Javascript object>"
            ]
          },
          "metadata": {
            "tags": []
          }
        },
        {
          "output_type": "display_data",
          "data": {
            "application/javascript": [
              "download(\"download_dc90f2fe-982d-4f49-b6ee-b5c85fc9c2ca\", \"nlp_model.pkl\", 1682523)"
            ],
            "text/plain": [
              "<IPython.core.display.Javascript object>"
            ]
          },
          "metadata": {
            "tags": []
          }
        }
      ]
    }
  ]
}